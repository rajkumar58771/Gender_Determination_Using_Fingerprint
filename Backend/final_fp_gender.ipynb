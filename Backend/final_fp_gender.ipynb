{
  "nbformat": 4,
  "nbformat_minor": 0,
  "metadata": {
    "colab": {
      "provenance": []
    },
    "kernelspec": {
      "name": "python3",
      "display_name": "Python 3"
    },
    "language_info": {
      "name": "python"
    }
  },
  "cells": [
    {
      "cell_type": "code",
      "execution_count": 8,
      "metadata": {
        "id": "CDBxS77P2Hiz"
      },
      "outputs": [],
      "source": [
        "import numpy as np\n",
        "import pandas as pd\n",
        "import seaborn as sns\n",
        "import tensorflow as tf\n",
        "\n",
        "import os\n",
        "import cv2\n",
        "\n",
        "import matplotlib.pyplot as plt"
      ]
    },
    {
      "cell_type": "code",
      "source": [
        "import joblib\n"
      ],
      "metadata": {
        "id": "YYnWbzgW25dX"
      },
      "execution_count": 9,
      "outputs": []
    },
    {
      "cell_type": "code",
      "source": [
        "model=joblib.load('/content/drive/MyDrive/fp_model.joblib')"
      ],
      "metadata": {
        "id": "cNjtFPO03TTV"
      },
      "execution_count": 10,
      "outputs": []
    },
    {
      "cell_type": "code",
      "source": [
        "xtest=cv2.imread('//content//1__M_Left_index_finger.BMP', cv2.IMREAD_GRAYSCALE)#fp scanner jekhane image save korbe sei directory r path"
      ],
      "metadata": {
        "id": "8-3FNbzY42aV"
      },
      "execution_count": 15,
      "outputs": []
    },
    {
      "cell_type": "code",
      "source": [
        "img_resize = cv2.resize(xtest, (96, 96))\n",
        "img_resize = img_resize.reshape(1, 96, 96, 1)\n",
        "ytest=model.predict(img_resize)\n",
        "ytest = (ytest >= 0.5).astype(np.int32)\n",
        "print(ytest)\n",
        "print(ytest.ndim)\n",
        "print(ytest.shape)\n",
        "print(ytest[0][0])"
      ],
      "metadata": {
        "colab": {
          "base_uri": "https://localhost:8080/"
        },
        "id": "7cHk-v_nGO6S",
        "outputId": "ba8a7eb9-eb31-4227-9dfe-b1f719ee309d"
      },
      "execution_count": 16,
      "outputs": [
        {
          "output_type": "stream",
          "name": "stdout",
          "text": [
            "1/1 [==============================] - 0s 323ms/step\n",
            "[[0]]\n",
            "2\n",
            "(1, 1)\n",
            "0\n"
          ]
        }
      ]
    },
    {
      "cell_type": "code",
      "source": [
        "if ytest[0][0] ==0:\n",
        "     txt=\"Male\""
      ],
      "metadata": {
        "id": "-LTd2Z_eHFxG"
      },
      "execution_count": 19,
      "outputs": []
    },
    {
      "cell_type": "code",
      "source": [
        "with open('my_file.txt', 'w') as file:\n",
        "    print(txt, file=file)\n"
      ],
      "metadata": {
        "id": "_mpSJOvFI0OG"
      },
      "execution_count": 20,
      "outputs": []
    }
  ]
}