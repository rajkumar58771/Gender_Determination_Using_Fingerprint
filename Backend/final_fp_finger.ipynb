{
  "nbformat": 4,
  "nbformat_minor": 0,
  "metadata": {
    "colab": {
      "provenance": []
    },
    "kernelspec": {
      "name": "python3",
      "display_name": "Python 3"
    },
    "language_info": {
      "name": "python"
    }
  },
  "cells": [
    {
      "cell_type": "code",
      "execution_count": 1,
      "metadata": {
        "id": "_phkMZiqKYvd"
      },
      "outputs": [],
      "source": [
        "import numpy as np\n",
        "import pandas as pd\n",
        "import seaborn as sns\n",
        "import tensorflow as tf\n",
        "\n",
        "import os\n",
        "import cv2\n",
        "\n",
        "import matplotlib.pyplot as plt\n"
      ]
    },
    {
      "cell_type": "code",
      "source": [
        "import joblib"
      ],
      "metadata": {
        "id": "CbcEVahDKsMq"
      },
      "execution_count": 2,
      "outputs": []
    },
    {
      "cell_type": "code",
      "source": [
        "model=joblib.load('//content//drive//MyDrive//fp_model_finger.joblib')"
      ],
      "metadata": {
        "id": "xcgWo9W6K_Fy"
      },
      "execution_count": 3,
      "outputs": []
    },
    {
      "cell_type": "code",
      "source": [
        "xtest=cv2.imread('//content//1__M_Left_index_finger.BMP', cv2.IMREAD_GRAYSCALE)"
      ],
      "metadata": {
        "id": "-4tLTX0FLeVq"
      },
      "execution_count": 4,
      "outputs": []
    },
    {
      "cell_type": "code",
      "source": [
        "img_resize = cv2.resize(xtest, (96, 96))\n",
        "img_resize = img_resize.reshape(1, 96, 96, 1)\n",
        "img_resize=img_resize/255"
      ],
      "metadata": {
        "id": "IHVDfvwuLuw4"
      },
      "execution_count": 5,
      "outputs": []
    },
    {
      "cell_type": "code",
      "source": [
        "predictions = model.predict(img_resize)"
      ],
      "metadata": {
        "colab": {
          "base_uri": "https://localhost:8080/"
        },
        "id": "NZ6EKQ6KMQdX",
        "outputId": "2b4347a2-75cb-4f0e-d0dd-269a54ef2b27"
      },
      "execution_count": 6,
      "outputs": [
        {
          "output_type": "stream",
          "name": "stdout",
          "text": [
            "1/1 [==============================] - 0s 288ms/step\n"
          ]
        }
      ]
    },
    {
      "cell_type": "code",
      "source": [
        "print(predictions)"
      ],
      "metadata": {
        "colab": {
          "base_uri": "https://localhost:8080/"
        },
        "id": "FGVSr3FgMZH3",
        "outputId": "79710020-3755-41c5-f06f-1acdc7285af0"
      },
      "execution_count": 10,
      "outputs": [
        {
          "output_type": "stream",
          "name": "stdout",
          "text": [
            "[[1.1167333e-08 9.9994957e-01 1.8016151e-05 3.1913369e-05 4.6206884e-07]]\n"
          ]
        }
      ]
    },
    {
      "cell_type": "code",
      "source": [
        "predicted = [np.argmax(predictions) ]"
      ],
      "metadata": {
        "id": "QH3GdbchNF__"
      },
      "execution_count": 11,
      "outputs": []
    },
    {
      "cell_type": "code",
      "source": [
        "print(predicted)"
      ],
      "metadata": {
        "colab": {
          "base_uri": "https://localhost:8080/"
        },
        "id": "iyjOOizkNf22",
        "outputId": "1823996c-85ac-48a9-9006-79f5fac5fab5"
      },
      "execution_count": 12,
      "outputs": [
        {
          "output_type": "stream",
          "name": "stdout",
          "text": [
            "[1]\n"
          ]
        }
      ]
    },
    {
      "cell_type": "code",
      "source": [
        "predicted=np.array(predicted)\n",
        "print(predicted.ndim)\n",
        "print(predicted)"
      ],
      "metadata": {
        "colab": {
          "base_uri": "https://localhost:8080/"
        },
        "id": "pgTNCx4pNtoc",
        "outputId": "40995573-e43f-411c-cd10-c9785b2e0300"
      },
      "execution_count": 15,
      "outputs": [
        {
          "output_type": "stream",
          "name": "stdout",
          "text": [
            "1\n",
            "[1]\n"
          ]
        }
      ]
    },
    {
      "cell_type": "code",
      "source": [
        "if predicted[0]==0:\n",
        "     print(\"thumb\")\n",
        "\n",
        "elif predicted[0]==1:\n",
        "         print(\"index\",end=\" \")\n",
        "\n",
        "elif predicted[0]==2:\n",
        "         print(\"middle\",end=\" \")\n",
        "\n",
        "elif predicted[0]==3:\n",
        "         print(\"ring\",end=\" \")\n",
        "\n",
        "elif predicted[0]==4:\n",
        "         print(\"little\",end=\" \")\n",
        ""
      ],
      "metadata": {
        "colab": {
          "base_uri": "https://localhost:8080/"
        },
        "id": "jlILYcx8OAbn",
        "outputId": "dda023c2-89f7-47d2-c9b6-af065972148a"
      },
      "execution_count": 20,
      "outputs": [
        {
          "output_type": "stream",
          "name": "stdout",
          "text": [
            "index "
          ]
        }
      ]
    },
    {
      "cell_type": "code",
      "source": [
        "matching_accuracy=predictions[0][predicted]*100\n",
        "print(matching_accuracy[0])"
      ],
      "metadata": {
        "colab": {
          "base_uri": "https://localhost:8080/"
        },
        "id": "WeP2H7jjOiX1",
        "outputId": "b31964f0-9588-4560-b4c2-16b6c8f3f7e1"
      },
      "execution_count": 26,
      "outputs": [
        {
          "output_type": "stream",
          "name": "stdout",
          "text": [
            "99.99496\n"
          ]
        }
      ]
    },
    {
      "cell_type": "code",
      "source": [
        "with open('matching_accuracy_finger.txt', 'w') as file:\n",
        "    print(matching_accuracy[0], file=file)"
      ],
      "metadata": {
        "id": "J3K_SIZxPFvl"
      },
      "execution_count": 29,
      "outputs": []
    },
    {
      "cell_type": "code",
      "source": [
        "with open('finger.txt', 'w') as file:\n",
        "  if predicted[0]==0:\n",
        "     print(\"thumb\", file=file)\n",
        "\n",
        "  elif predicted[0]==1:\n",
        "         print(\"index\", file=file)\n",
        "\n",
        "  elif predicted[0]==2:\n",
        "         print(\"middle\", file=file)\n",
        "\n",
        "  elif predicted[0]==3:\n",
        "         print(\"ring\", file=file)\n",
        "\n",
        "  elif predicted[0]==4:\n",
        "         print(\"little\", file=file)"
      ],
      "metadata": {
        "id": "tOwve4u4QBG8"
      },
      "execution_count": 30,
      "outputs": []
    }
  ]
}