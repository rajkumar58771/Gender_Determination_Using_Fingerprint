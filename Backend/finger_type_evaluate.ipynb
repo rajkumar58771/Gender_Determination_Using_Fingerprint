{
  "nbformat": 4,
  "nbformat_minor": 0,
  "metadata": {
    "colab": {
      "provenance": []
    },
    "kernelspec": {
      "name": "python3",
      "display_name": "Python 3"
    },
    "language_info": {
      "name": "python"
    }
  },
  "cells": [
    {
      "cell_type": "code",
      "execution_count": null,
      "metadata": {
        "id": "N_bk00WO9Bvi"
      },
      "outputs": [],
      "source": [
        "import numpy as np\n",
        "import pandas as pd\n",
        "import seaborn as sns\n",
        "import tensorflow as tf\n",
        "\n",
        "import os\n",
        "import cv2\n",
        "\n",
        "import matplotlib.pyplot as plt"
      ]
    },
    {
      "cell_type": "code",
      "source": [
        "def extract_label(img_path,underscore_flag ):\n",
        "    filename, _ = os.path.splitext(os.path.basename(img_path))\n",
        "\n",
        "    subject_id, etc = filename.split('__')\n",
        "\n",
        "    if underscore_flag:\n",
        "      gender,lr, finger, _, _ = etc.split('_')\n",
        "    else:\n",
        "      gender,lr, finger,  _ = etc.split('_')\n",
        "\n",
        "    if finger == 'thumb':\n",
        "        finger = 0\n",
        "    elif finger == 'index':\n",
        "        finger = 1\n",
        "    elif finger == 'middle':\n",
        "        finger = 2\n",
        "    elif finger == 'ring':\n",
        "        finger = 3\n",
        "    elif finger == 'little':\n",
        "        finger = 4\n",
        "\n",
        "    return np.array([finger], dtype=np.uint16)"
      ],
      "metadata": {
        "id": "tPvAV2Wc9KU2"
      },
      "execution_count": null,
      "outputs": []
    },
    {
      "cell_type": "code",
      "source": [
        "def loading_data(path,boolean):\n",
        "    data = []\n",
        "\n",
        "    for img in os.listdir(path):\n",
        "            img_array = cv2.imread(os.path.join(path, img), cv2.IMREAD_GRAYSCALE)\n",
        "            img_resize = cv2.resize(img_array, (96,96))\n",
        "            label = extract_label(os.path.join(path, img),boolean)\n",
        "            data.append([label[0], img_resize ])\n",
        "\n",
        "\n",
        "    return data"
      ],
      "metadata": {
        "id": "mvFITtvZ9Ne8"
      },
      "execution_count": null,
      "outputs": []
    },
    {
      "cell_type": "code",
      "source": [
        "path='/content/drive/MyDrive/thumb'"
      ],
      "metadata": {
        "id": "ky6p2j2G9lS9"
      },
      "execution_count": null,
      "outputs": []
    },
    {
      "cell_type": "code",
      "source": [
        "data=loading_data(path,False)\n"
      ],
      "metadata": {
        "id": "xjYeN6hp9wa7"
      },
      "execution_count": null,
      "outputs": []
    },
    {
      "cell_type": "code",
      "source": [
        "number_of_elements = len(data)\n",
        "\n",
        "print(\"Number of elements in the list:\", number_of_elements)"
      ],
      "metadata": {
        "colab": {
          "base_uri": "https://localhost:8080/"
        },
        "id": "7iJlGGfK9exs",
        "outputId": "02845e0a-be78-48e4-b47f-c7808c59b82c"
      },
      "execution_count": null,
      "outputs": [
        {
          "output_type": "stream",
          "name": "stdout",
          "text": [
            "Number of elements in the list: 1200\n"
          ]
        }
      ]
    },
    {
      "cell_type": "code",
      "source": [
        "img, labels = [], []\n",
        "for label, feature in data:\n",
        "    labels.append(label)\n",
        "    img.append(feature)"
      ],
      "metadata": {
        "id": "eIcSGjtl-ExL"
      },
      "execution_count": null,
      "outputs": []
    },
    {
      "cell_type": "code",
      "source": [
        "x_test,y_test= [], []"
      ],
      "metadata": {
        "id": "eiBgqVDL-KQF"
      },
      "execution_count": null,
      "outputs": []
    },
    {
      "cell_type": "code",
      "source": [
        "x_test2,y_test2= [], []"
      ],
      "metadata": {
        "id": "WUfQquEkOslV"
      },
      "execution_count": null,
      "outputs": []
    },
    {
      "cell_type": "code",
      "source": [
        "x_test = np.array(img).reshape(-1, 96, 96, 1)\n",
        "y_test = np.array(labels)\n",
        "print(x_test.ndim)\n",
        "print(x_test.shape)\n",
        "print(y_test.ndim)\n",
        "print(y_test.shape)\n",
        "print(x_test[0])"
      ],
      "metadata": {
        "colab": {
          "base_uri": "https://localhost:8080/"
        },
        "id": "yErkZX2JDxol",
        "outputId": "c71211c4-1f8c-45a2-dc94-7a76779cff1b"
      },
      "execution_count": null,
      "outputs": [
        {
          "output_type": "stream",
          "name": "stdout",
          "text": [
            "4\n",
            "(1200, 96, 96, 1)\n",
            "1\n",
            "(1200,)\n",
            "[[[160]\n",
            "  [158]\n",
            "  [158]\n",
            "  ...\n",
            "  [  0]\n",
            "  [  0]\n",
            "  [  0]]\n",
            "\n",
            " [[160]\n",
            "  [105]\n",
            "  [121]\n",
            "  ...\n",
            "  [  0]\n",
            "  [  0]\n",
            "  [  0]]\n",
            "\n",
            " [[160]\n",
            "  [105]\n",
            "  [255]\n",
            "  ...\n",
            "  [  0]\n",
            "  [  0]\n",
            "  [  0]]\n",
            "\n",
            " ...\n",
            "\n",
            " [[  0]\n",
            "  [  0]\n",
            "  [  0]\n",
            "  ...\n",
            "  [  0]\n",
            "  [  0]\n",
            "  [  0]]\n",
            "\n",
            " [[  0]\n",
            "  [  0]\n",
            "  [  0]\n",
            "  ...\n",
            "  [  0]\n",
            "  [  0]\n",
            "  [  0]]\n",
            "\n",
            " [[  0]\n",
            "  [  0]\n",
            "  [  0]\n",
            "  ...\n",
            "  [  0]\n",
            "  [  0]\n",
            "  [  0]]]\n"
          ]
        }
      ]
    },
    {
      "cell_type": "code",
      "source": [
        "x_test2 = x_test/255\n",
        "y_test2 = y_test\n",
        "print(x_test.ndim)\n",
        "print(x_test.shape)\n",
        "print(y_test.ndim)\n",
        "print(y_test.shape)\n",
        "print(x_test2[0])"
      ],
      "metadata": {
        "colab": {
          "base_uri": "https://localhost:8080/"
        },
        "id": "c_bj7IOHOzoF",
        "outputId": "ff323a22-f671-407b-d5a1-c2f51f907206"
      },
      "execution_count": null,
      "outputs": [
        {
          "output_type": "stream",
          "name": "stdout",
          "text": [
            "4\n",
            "(1200, 96, 96, 1)\n",
            "1\n",
            "(1200,)\n",
            "[[[0.62745098]\n",
            "  [0.61960784]\n",
            "  [0.61960784]\n",
            "  ...\n",
            "  [0.        ]\n",
            "  [0.        ]\n",
            "  [0.        ]]\n",
            "\n",
            " [[0.62745098]\n",
            "  [0.41176471]\n",
            "  [0.4745098 ]\n",
            "  ...\n",
            "  [0.        ]\n",
            "  [0.        ]\n",
            "  [0.        ]]\n",
            "\n",
            " [[0.62745098]\n",
            "  [0.41176471]\n",
            "  [1.        ]\n",
            "  ...\n",
            "  [0.        ]\n",
            "  [0.        ]\n",
            "  [0.        ]]\n",
            "\n",
            " ...\n",
            "\n",
            " [[0.        ]\n",
            "  [0.        ]\n",
            "  [0.        ]\n",
            "  ...\n",
            "  [0.        ]\n",
            "  [0.        ]\n",
            "  [0.        ]]\n",
            "\n",
            " [[0.        ]\n",
            "  [0.        ]\n",
            "  [0.        ]\n",
            "  ...\n",
            "  [0.        ]\n",
            "  [0.        ]\n",
            "  [0.        ]]\n",
            "\n",
            " [[0.        ]\n",
            "  [0.        ]\n",
            "  [0.        ]\n",
            "  ...\n",
            "  [0.        ]\n",
            "  [0.        ]\n",
            "  [0.        ]]]\n"
          ]
        }
      ]
    },
    {
      "cell_type": "code",
      "source": [
        "import joblib"
      ],
      "metadata": {
        "id": "7wC9Cu2CEHEc"
      },
      "execution_count": null,
      "outputs": []
    },
    {
      "cell_type": "code",
      "source": [
        "model=joblib.load('/content/drive/MyDrive/fp_model_finger.joblib')"
      ],
      "metadata": {
        "id": "kPQU6BdaEQ_b"
      },
      "execution_count": null,
      "outputs": []
    },
    {
      "cell_type": "code",
      "source": [
        "model.evaluate(x_test,y_test)"
      ],
      "metadata": {
        "colab": {
          "base_uri": "https://localhost:8080/"
        },
        "id": "hU8kNDiQEqkN",
        "outputId": "54cfbb1d-1548-4d3c-d01b-5ffe2f133ba9"
      },
      "execution_count": null,
      "outputs": [
        {
          "output_type": "stream",
          "name": "stdout",
          "text": [
            "38/38 [==============================] - 13s 345ms/step - loss: 13.6283 - accuracy: 0.9642\n"
          ]
        },
        {
          "output_type": "execute_result",
          "data": {
            "text/plain": [
              "[13.628304481506348, 0.9641666412353516]"
            ]
          },
          "metadata": {},
          "execution_count": 199
        }
      ]
    },
    {
      "cell_type": "code",
      "source": [
        "model.evaluate(x_test2,y_test2)"
      ],
      "metadata": {
        "colab": {
          "base_uri": "https://localhost:8080/"
        },
        "id": "8s10mrUdPMgb",
        "outputId": "d8e68a3f-3675-4e16-c53b-de6ab5846084"
      },
      "execution_count": null,
      "outputs": [
        {
          "output_type": "stream",
          "name": "stdout",
          "text": [
            "38/38 [==============================] - 13s 345ms/step - loss: 0.0476 - accuracy: 0.9883\n"
          ]
        },
        {
          "output_type": "execute_result",
          "data": {
            "text/plain": [
              "[0.047580379992723465, 0.9883333444595337]"
            ]
          },
          "metadata": {},
          "execution_count": 200
        }
      ]
    },
    {
      "cell_type": "code",
      "source": [
        "cnt=0"
      ],
      "metadata": {
        "id": "1y_LD-9wNFa4"
      },
      "execution_count": null,
      "outputs": []
    },
    {
      "cell_type": "code",
      "source": [
        "predictions = model.predict(x_test)\n",
        "predictions2 = model.predict(x_test2)"
      ],
      "metadata": {
        "colab": {
          "base_uri": "https://localhost:8080/"
        },
        "id": "ogKzZQtqNTwP",
        "outputId": "3efd3484-6733-4345-ae71-fd982ab6a0df"
      },
      "execution_count": null,
      "outputs": [
        {
          "output_type": "stream",
          "name": "stdout",
          "text": [
            "38/38 [==============================] - 13s 344ms/step\n",
            "38/38 [==============================] - 13s 343ms/step\n"
          ]
        }
      ]
    },
    {
      "cell_type": "code",
      "source": [
        "print(predictions.ndim)\n",
        "print(predictions.shape)\n"
      ],
      "metadata": {
        "colab": {
          "base_uri": "https://localhost:8080/"
        },
        "id": "0TQ7BZt-PtxK",
        "outputId": "8e669bbf-c977-4d47-84d1-3d0901b3ae90"
      },
      "execution_count": null,
      "outputs": [
        {
          "output_type": "stream",
          "name": "stdout",
          "text": [
            "2\n",
            "(1200, 5)\n"
          ]
        }
      ]
    },
    {
      "cell_type": "code",
      "source": [
        "print(predictions2.ndim)\n",
        "print(predictions2.shape)"
      ],
      "metadata": {
        "colab": {
          "base_uri": "https://localhost:8080/"
        },
        "id": "rB0jjU-6QTWa",
        "outputId": "d57cfdf6-0095-4fb3-9136-ec7a4eeae768"
      },
      "execution_count": null,
      "outputs": [
        {
          "output_type": "stream",
          "name": "stdout",
          "text": [
            "2\n",
            "(1200, 5)\n"
          ]
        }
      ]
    },
    {
      "cell_type": "code",
      "source": [
        "print(predictions[0])"
      ],
      "metadata": {
        "colab": {
          "base_uri": "https://localhost:8080/"
        },
        "id": "Qdmm2Wh5Q187",
        "outputId": "267ac428-1bcf-46de-e657-0d3bfa4264f7"
      },
      "execution_count": null,
      "outputs": [
        {
          "output_type": "stream",
          "name": "stdout",
          "text": [
            "[0.99999994 0.         0.         0.         0.        ]\n"
          ]
        }
      ]
    },
    {
      "cell_type": "code",
      "source": [
        "print(predictions2[0])"
      ],
      "metadata": {
        "colab": {
          "base_uri": "https://localhost:8080/"
        },
        "id": "QeSfkV-gU_EK",
        "outputId": "444c82c6-a8c4-45cb-a69d-dd03ef964fff"
      },
      "execution_count": null,
      "outputs": [
        {
          "output_type": "stream",
          "name": "stdout",
          "text": [
            "[9.9994820e-01 5.0808951e-05 1.6399318e-07 7.7622445e-07 5.3629817e-10]\n"
          ]
        }
      ]
    },
    {
      "cell_type": "code",
      "source": [
        "thumb_cnt=0\n",
        "index_cnt=0\n",
        "middle_cnt=0\n",
        "ring_cnt=0\n",
        "little_cnt=0\n",
        "\n",
        "predicted = [np.argmax(i) for i in predictions]\n",
        "print(type(predicted))\n",
        "predicted=np.array(predicted)\n",
        "aa=[predictions[i][predicted]for i in range(len(predictions))]\n",
        "print(f\"Index of the maximum element: {predicted}\")\n",
        "for finger in np.nditer(predicted):\n",
        "    if finger ==0:\n",
        "     print(\"thumb\",end=\" \")\n",
        "     thumb_cnt+=1\n",
        "    elif finger == 1:\n",
        "         print(\"index\",end=\" \")\n",
        "         index_cnt+=1\n",
        "    elif finger == 2:\n",
        "         print(\"middle\",end=\" \")\n",
        "         middle_cnt+=1\n",
        "    elif finger ==3:\n",
        "         print(\"ring\",end=\" \")\n",
        "         ring_cnt+=1\n",
        "    elif finger == 4:\n",
        "         print(\"little\",end=\" \")\n",
        "         little_cnt+=1\n",
        "\n",
        "print(\"\\n\",thumb_cnt, \" \\n\", index_cnt,\" \\n\",middle_cnt,\"\\n \",ring_cnt,\"\\n \",little_cnt,\"\\n \")"
      ],
      "metadata": {
        "colab": {
          "base_uri": "https://localhost:8080/"
        },
        "id": "_WcbbF5IVOOx",
        "outputId": "9f378321-a5fc-44d6-e75c-098f85da8d2d"
      },
      "execution_count": null,
      "outputs": [
        {
          "output_type": "stream",
          "name": "stdout",
          "text": [
            "<class 'list'>\n",
            "Index of the maximum element: [0 0 0 ... 3 0 0]\n",
            "thumb thumb thumb thumb thumb index thumb thumb thumb thumb thumb thumb thumb thumb thumb thumb thumb thumb ring thumb thumb thumb thumb thumb thumb thumb thumb thumb thumb thumb thumb thumb thumb thumb thumb thumb thumb thumb thumb thumb thumb thumb thumb thumb thumb thumb thumb thumb thumb thumb thumb thumb thumb thumb thumb thumb thumb thumb thumb thumb thumb thumb thumb thumb thumb thumb thumb thumb thumb thumb thumb thumb ring thumb thumb thumb thumb thumb thumb thumb thumb thumb thumb thumb thumb thumb thumb thumb thumb thumb thumb thumb thumb thumb thumb thumb thumb thumb thumb thumb thumb thumb ring thumb thumb thumb thumb thumb thumb thumb thumb thumb thumb thumb thumb thumb thumb thumb thumb thumb thumb thumb thumb thumb thumb thumb thumb thumb thumb thumb thumb thumb thumb thumb thumb thumb thumb thumb thumb thumb thumb thumb index thumb thumb thumb thumb ring ring thumb thumb thumb thumb ring thumb thumb thumb thumb thumb thumb thumb thumb thumb thumb thumb thumb thumb thumb thumb thumb thumb thumb thumb thumb thumb thumb thumb thumb thumb thumb thumb ring thumb thumb thumb thumb thumb thumb thumb thumb thumb ring thumb thumb thumb thumb thumb thumb thumb thumb thumb thumb thumb thumb thumb thumb thumb thumb thumb thumb thumb thumb thumb thumb thumb thumb thumb thumb thumb thumb thumb thumb thumb thumb thumb thumb thumb thumb thumb thumb thumb thumb thumb thumb thumb thumb thumb thumb thumb thumb thumb thumb thumb thumb thumb thumb thumb thumb thumb thumb thumb thumb thumb thumb thumb thumb thumb thumb thumb thumb thumb thumb thumb thumb thumb thumb thumb thumb thumb thumb thumb thumb thumb thumb thumb thumb thumb thumb thumb thumb thumb thumb thumb thumb thumb thumb thumb thumb thumb thumb thumb thumb thumb thumb thumb thumb thumb thumb thumb thumb thumb thumb thumb thumb thumb thumb thumb thumb thumb thumb thumb thumb thumb thumb thumb thumb thumb thumb thumb thumb thumb thumb thumb thumb thumb thumb thumb thumb thumb thumb thumb thumb thumb thumb thumb thumb thumb thumb thumb thumb thumb thumb thumb thumb thumb thumb thumb thumb thumb ring thumb thumb thumb thumb thumb thumb thumb thumb thumb thumb thumb thumb thumb thumb thumb thumb thumb thumb thumb thumb thumb thumb thumb thumb thumb thumb thumb thumb thumb thumb thumb thumb thumb thumb thumb thumb thumb thumb thumb thumb thumb thumb thumb thumb thumb thumb ring thumb thumb thumb thumb thumb thumb thumb thumb thumb thumb thumb thumb thumb thumb thumb index thumb thumb thumb thumb thumb thumb thumb thumb thumb thumb thumb thumb thumb thumb thumb thumb ring thumb ring thumb thumb thumb thumb thumb thumb thumb thumb thumb thumb thumb thumb thumb thumb thumb thumb thumb thumb thumb thumb thumb thumb thumb thumb thumb thumb thumb thumb thumb thumb thumb thumb thumb thumb thumb thumb thumb thumb thumb thumb thumb thumb thumb thumb thumb thumb thumb thumb thumb thumb thumb thumb thumb thumb thumb thumb thumb thumb thumb thumb thumb thumb thumb thumb ring thumb thumb thumb thumb thumb thumb thumb thumb thumb thumb thumb thumb thumb thumb ring thumb thumb thumb thumb thumb thumb thumb thumb thumb thumb thumb thumb thumb thumb thumb thumb thumb thumb thumb thumb thumb thumb thumb thumb ring thumb thumb thumb thumb thumb thumb thumb thumb thumb thumb thumb thumb thumb thumb thumb thumb thumb thumb thumb thumb thumb thumb thumb thumb thumb thumb thumb thumb thumb thumb thumb thumb thumb thumb thumb thumb thumb thumb thumb thumb thumb thumb thumb thumb thumb thumb thumb thumb thumb thumb thumb thumb thumb thumb thumb thumb ring thumb thumb thumb thumb thumb thumb thumb thumb little thumb thumb thumb thumb thumb thumb thumb thumb thumb thumb thumb thumb thumb thumb thumb thumb thumb thumb thumb little thumb thumb thumb thumb thumb thumb thumb index thumb thumb thumb thumb thumb thumb thumb thumb thumb thumb thumb thumb thumb thumb thumb thumb thumb thumb thumb thumb thumb thumb ring thumb thumb thumb thumb thumb thumb thumb thumb index thumb thumb thumb thumb thumb thumb thumb thumb thumb thumb thumb thumb thumb thumb thumb thumb thumb thumb thumb thumb thumb thumb thumb thumb thumb thumb thumb thumb thumb thumb thumb thumb thumb thumb thumb ring thumb thumb thumb thumb thumb thumb thumb thumb thumb ring thumb thumb thumb thumb thumb thumb thumb thumb thumb thumb thumb thumb thumb thumb thumb thumb thumb thumb thumb thumb thumb thumb thumb thumb thumb thumb thumb thumb thumb thumb thumb thumb thumb thumb thumb thumb thumb thumb thumb thumb thumb thumb thumb thumb thumb thumb thumb thumb thumb thumb thumb thumb thumb thumb thumb thumb thumb thumb thumb thumb thumb thumb ring thumb thumb thumb thumb thumb thumb thumb thumb ring thumb thumb thumb thumb thumb thumb thumb thumb thumb thumb thumb thumb thumb thumb thumb thumb thumb thumb thumb thumb thumb thumb thumb thumb index thumb thumb thumb thumb thumb thumb thumb thumb thumb thumb thumb thumb thumb thumb thumb thumb thumb thumb thumb thumb thumb thumb thumb thumb thumb thumb thumb thumb thumb thumb thumb thumb thumb thumb thumb thumb thumb thumb thumb thumb thumb thumb thumb thumb index thumb thumb thumb thumb thumb thumb ring thumb thumb thumb ring thumb thumb index thumb thumb thumb thumb thumb thumb thumb thumb thumb thumb thumb thumb thumb thumb thumb thumb thumb thumb thumb thumb thumb thumb thumb thumb thumb thumb index thumb thumb thumb thumb thumb ring thumb thumb thumb thumb thumb thumb thumb thumb thumb thumb thumb thumb index thumb thumb thumb thumb thumb thumb thumb thumb thumb thumb thumb thumb thumb thumb thumb thumb thumb thumb ring thumb thumb thumb thumb thumb thumb thumb thumb thumb thumb thumb thumb thumb thumb thumb thumb thumb thumb thumb thumb thumb thumb thumb thumb thumb thumb thumb thumb thumb thumb thumb thumb thumb thumb thumb thumb thumb thumb thumb thumb ring thumb thumb thumb thumb thumb thumb thumb thumb thumb thumb thumb thumb thumb thumb thumb thumb thumb thumb thumb thumb thumb thumb thumb thumb thumb thumb thumb thumb ring thumb thumb thumb thumb thumb thumb thumb thumb thumb thumb thumb thumb thumb thumb thumb thumb thumb thumb thumb thumb thumb thumb thumb thumb thumb thumb thumb thumb thumb thumb thumb thumb thumb thumb thumb thumb thumb thumb ring thumb thumb thumb thumb thumb thumb thumb thumb thumb thumb thumb thumb thumb thumb thumb thumb thumb thumb thumb thumb thumb thumb thumb thumb thumb thumb thumb thumb thumb thumb thumb thumb thumb thumb thumb thumb thumb thumb thumb thumb thumb thumb thumb thumb thumb thumb thumb thumb thumb thumb thumb thumb thumb thumb thumb thumb thumb thumb thumb thumb thumb thumb thumb thumb thumb thumb thumb thumb thumb thumb thumb thumb thumb thumb thumb thumb thumb thumb thumb thumb thumb thumb thumb thumb thumb thumb thumb thumb thumb thumb thumb thumb little thumb thumb thumb thumb thumb thumb thumb thumb thumb thumb thumb thumb thumb thumb thumb thumb thumb thumb thumb thumb thumb thumb thumb thumb thumb thumb thumb thumb thumb thumb thumb thumb thumb thumb thumb thumb thumb thumb thumb thumb thumb thumb thumb thumb thumb thumb thumb thumb thumb thumb thumb ring thumb thumb thumb thumb thumb thumb thumb thumb thumb thumb thumb thumb thumb ring thumb thumb \n",
            " 1157  \n",
            " 10  \n",
            " 0 \n",
            "  30 \n",
            "  3 \n",
            " \n"
          ]
        }
      ]
    },
    {
      "cell_type": "code",
      "source": [
        "acc=(thumb_cnt/number_of_elements)*100\n",
        "print(\"accuracy is:\",acc)"
      ],
      "metadata": {
        "colab": {
          "base_uri": "https://localhost:8080/"
        },
        "id": "XhLSUvoOcjXA",
        "outputId": "8c6275cc-69cf-4042-e695-e56f55016310"
      },
      "execution_count": null,
      "outputs": [
        {
          "output_type": "stream",
          "name": "stdout",
          "text": [
            "accuracy is: 96.41666666666666\n"
          ]
        }
      ]
    },
    {
      "cell_type": "code",
      "source": [
        "thumb_cnt2=0\n",
        "index_cnt2=0\n",
        "middle_cnt2=0\n",
        "ring_cnt2=0\n",
        "little_cnt2=0\n",
        "\n",
        "predicted2= [np.argmax(i) for i in predictions2]\n",
        "print(type(predicted2))\n",
        "predicted2=np.array(predicted2)\n",
        "aa=[predictions2[i][predicted2]for i in range(len(predictions2))]\n",
        "print(f\"Index of the maximum element: {predicted2}\")\n",
        "for finger in np.nditer(predicted2):\n",
        "    if finger ==0:\n",
        "     print(\"thumb\",end=\" \")\n",
        "     thumb_cnt2+=1\n",
        "    elif finger == 1:\n",
        "         print(\"index\",end=\" \")\n",
        "         index_cnt2+=1\n",
        "    elif finger == 2:\n",
        "         print(\"middle\",end=\" \")\n",
        "         middle_cnt2+=1\n",
        "    elif finger ==3:\n",
        "         print(\"ring\",end=\" \")\n",
        "         ring_cnt2+=1\n",
        "    elif finger == 4:\n",
        "         print(\"little\",end=\" \")\n",
        "         little_cnt2+=1\n",
        "\n",
        "print(\"\\n\",thumb_cnt2, \" \\n\", index_cnt2,\" \\n\",middle_cnt2,\"\\n \",ring_cnt2,\"\\n \",little_cnt2,\"\\n \")"
      ],
      "metadata": {
        "colab": {
          "base_uri": "https://localhost:8080/"
        },
        "id": "96nwyT9MwQrS",
        "outputId": "2cb627ee-095b-446e-a2b9-6adb67f63c8f"
      },
      "execution_count": null,
      "outputs": [
        {
          "output_type": "stream",
          "name": "stdout",
          "text": [
            "<class 'list'>\n",
            "Index of the maximum element: [0 0 0 ... 0 0 0]\n",
            "thumb thumb thumb thumb thumb index thumb thumb thumb thumb thumb thumb thumb thumb thumb thumb thumb thumb thumb thumb thumb thumb thumb thumb thumb thumb thumb thumb thumb thumb thumb thumb thumb thumb thumb thumb thumb thumb thumb thumb thumb thumb thumb thumb thumb thumb thumb thumb thumb thumb thumb thumb thumb thumb thumb thumb thumb thumb thumb thumb thumb thumb thumb thumb thumb thumb thumb thumb thumb thumb thumb thumb ring thumb thumb thumb thumb thumb thumb thumb thumb thumb thumb thumb thumb thumb thumb thumb thumb thumb thumb thumb thumb thumb thumb thumb thumb thumb thumb thumb thumb thumb thumb thumb thumb thumb thumb thumb thumb thumb thumb thumb thumb thumb thumb thumb thumb thumb thumb thumb thumb thumb thumb thumb thumb thumb thumb thumb thumb thumb thumb thumb thumb thumb thumb thumb thumb thumb thumb thumb thumb thumb index thumb thumb thumb thumb thumb thumb thumb thumb thumb thumb thumb thumb thumb thumb thumb thumb thumb thumb thumb thumb thumb thumb thumb thumb thumb thumb thumb thumb thumb thumb thumb thumb thumb thumb thumb thumb thumb thumb thumb thumb thumb thumb thumb thumb thumb thumb thumb thumb thumb thumb thumb thumb thumb thumb thumb thumb thumb thumb thumb thumb thumb thumb thumb thumb thumb thumb thumb thumb thumb thumb thumb thumb thumb thumb thumb thumb thumb thumb thumb thumb thumb thumb thumb thumb thumb thumb thumb thumb thumb thumb thumb thumb thumb thumb thumb thumb thumb thumb thumb thumb thumb thumb thumb thumb thumb thumb thumb thumb thumb thumb thumb thumb thumb thumb thumb thumb thumb thumb thumb thumb thumb thumb thumb thumb thumb thumb thumb thumb thumb thumb thumb thumb thumb thumb thumb thumb thumb thumb thumb thumb thumb thumb thumb thumb thumb thumb thumb thumb thumb thumb thumb thumb thumb thumb thumb thumb thumb thumb thumb thumb thumb thumb thumb thumb thumb thumb thumb thumb thumb thumb thumb thumb thumb thumb thumb thumb thumb thumb thumb thumb thumb thumb thumb thumb thumb thumb thumb thumb thumb thumb thumb thumb thumb thumb thumb thumb thumb thumb thumb thumb thumb thumb thumb thumb thumb thumb thumb thumb thumb thumb thumb thumb thumb thumb thumb thumb thumb thumb thumb thumb thumb thumb thumb thumb thumb thumb thumb thumb thumb thumb thumb thumb thumb thumb thumb thumb thumb thumb thumb thumb thumb thumb thumb thumb thumb thumb thumb thumb thumb thumb thumb thumb thumb thumb thumb thumb thumb thumb thumb thumb thumb thumb thumb thumb thumb thumb thumb thumb thumb thumb thumb thumb thumb thumb thumb thumb thumb thumb thumb thumb thumb thumb thumb thumb thumb thumb thumb thumb ring thumb thumb thumb thumb thumb thumb thumb thumb thumb thumb thumb thumb thumb thumb thumb thumb thumb thumb thumb thumb thumb thumb thumb thumb thumb thumb thumb thumb thumb thumb thumb thumb thumb thumb thumb thumb thumb thumb thumb thumb thumb thumb thumb thumb thumb thumb thumb thumb thumb thumb index thumb thumb thumb thumb thumb thumb thumb thumb thumb thumb thumb thumb thumb thumb thumb thumb thumb thumb thumb thumb thumb thumb thumb thumb thumb thumb thumb thumb thumb thumb thumb thumb thumb thumb thumb thumb thumb thumb thumb thumb thumb thumb thumb thumb thumb thumb thumb thumb thumb thumb thumb thumb thumb thumb thumb thumb thumb thumb thumb thumb thumb thumb thumb thumb thumb thumb thumb thumb thumb thumb thumb thumb thumb thumb thumb thumb thumb thumb thumb thumb thumb thumb thumb thumb thumb thumb thumb thumb thumb thumb thumb thumb thumb thumb thumb thumb thumb thumb thumb thumb thumb thumb thumb thumb thumb thumb thumb thumb thumb thumb thumb thumb thumb thumb ring thumb thumb thumb thumb index thumb thumb thumb thumb thumb thumb thumb thumb thumb thumb thumb thumb thumb thumb thumb thumb thumb thumb thumb index thumb thumb thumb thumb thumb thumb thumb thumb thumb thumb thumb thumb thumb thumb thumb thumb thumb thumb thumb thumb thumb thumb thumb thumb thumb thumb thumb thumb thumb thumb thumb thumb thumb thumb thumb thumb thumb thumb thumb thumb thumb thumb thumb thumb thumb thumb thumb thumb thumb thumb thumb thumb thumb thumb thumb thumb thumb thumb thumb thumb thumb thumb thumb thumb thumb thumb thumb thumb thumb thumb thumb thumb thumb thumb thumb thumb thumb thumb thumb thumb thumb thumb thumb thumb thumb thumb thumb thumb thumb thumb thumb thumb thumb thumb thumb thumb thumb thumb thumb thumb thumb thumb thumb thumb thumb thumb thumb thumb thumb thumb thumb thumb thumb thumb thumb thumb thumb thumb thumb thumb thumb thumb thumb thumb thumb thumb thumb thumb thumb thumb thumb thumb thumb thumb thumb thumb thumb thumb thumb thumb thumb thumb thumb thumb thumb thumb thumb thumb thumb thumb thumb thumb thumb thumb thumb thumb thumb thumb thumb thumb thumb thumb thumb thumb thumb thumb thumb thumb thumb thumb thumb thumb thumb thumb thumb thumb thumb thumb thumb thumb thumb thumb index thumb thumb thumb thumb thumb thumb thumb thumb thumb thumb thumb thumb thumb thumb index thumb thumb thumb thumb thumb thumb thumb thumb thumb thumb index thumb thumb thumb thumb thumb thumb thumb thumb thumb thumb thumb thumb thumb thumb thumb thumb thumb thumb thumb thumb thumb thumb thumb thumb thumb thumb thumb thumb thumb ring thumb thumb thumb thumb thumb thumb thumb thumb thumb thumb thumb thumb thumb thumb thumb thumb thumb thumb thumb thumb thumb thumb thumb thumb thumb thumb thumb thumb thumb thumb thumb thumb thumb thumb thumb thumb thumb thumb thumb thumb thumb thumb thumb thumb thumb thumb thumb thumb ring thumb thumb thumb thumb thumb thumb thumb thumb thumb thumb thumb thumb thumb thumb thumb thumb thumb thumb thumb thumb thumb thumb thumb thumb thumb thumb thumb thumb thumb thumb thumb thumb thumb thumb thumb thumb thumb thumb thumb thumb thumb thumb thumb thumb thumb thumb thumb thumb thumb thumb thumb thumb thumb thumb thumb thumb thumb thumb thumb thumb thumb thumb thumb thumb thumb thumb thumb thumb thumb thumb thumb thumb thumb thumb thumb thumb thumb thumb thumb thumb thumb thumb thumb thumb thumb thumb thumb thumb thumb thumb thumb thumb thumb thumb thumb thumb thumb ring thumb thumb thumb thumb thumb thumb thumb thumb thumb thumb thumb thumb thumb thumb thumb thumb thumb thumb thumb thumb thumb thumb thumb thumb thumb thumb thumb thumb thumb thumb thumb thumb thumb thumb thumb thumb thumb thumb thumb thumb thumb thumb thumb thumb thumb thumb thumb thumb thumb thumb thumb thumb thumb thumb thumb thumb thumb thumb thumb thumb thumb thumb thumb thumb thumb thumb thumb thumb thumb thumb thumb thumb thumb thumb thumb thumb thumb thumb thumb thumb thumb thumb thumb thumb thumb thumb thumb thumb thumb thumb thumb thumb thumb thumb thumb thumb thumb thumb thumb thumb thumb thumb thumb thumb thumb thumb thumb thumb thumb thumb thumb thumb thumb thumb thumb thumb thumb thumb thumb thumb thumb thumb thumb thumb thumb thumb thumb thumb thumb thumb thumb thumb thumb thumb thumb thumb thumb thumb thumb thumb thumb thumb thumb thumb thumb thumb thumb thumb thumb thumb thumb thumb thumb thumb thumb thumb thumb thumb thumb thumb thumb thumb thumb thumb thumb thumb thumb thumb thumb thumb thumb thumb thumb thumb thumb thumb thumb thumb thumb thumb thumb thumb thumb thumb thumb thumb thumb thumb thumb thumb thumb \n",
            " 1186  \n",
            " 8  \n",
            " 0 \n",
            "  6 \n",
            "  0 \n",
            " \n"
          ]
        }
      ]
    },
    {
      "cell_type": "code",
      "source": [
        "acc2=(thumb_cnt2/number_of_elements)*100\n",
        "print(\"accuracy is:\",acc2)"
      ],
      "metadata": {
        "colab": {
          "base_uri": "https://localhost:8080/"
        },
        "id": "BFN7yB1twq2T",
        "outputId": "b463dd11-1c01-430d-be45-8f32268f1bf9"
      },
      "execution_count": null,
      "outputs": [
        {
          "output_type": "stream",
          "name": "stdout",
          "text": [
            "accuracy is: 98.83333333333333\n"
          ]
        }
      ]
    }
  ]
}